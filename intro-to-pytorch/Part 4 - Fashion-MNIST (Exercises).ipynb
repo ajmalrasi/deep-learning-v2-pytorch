{
 "cells": [
  {
   "cell_type": "markdown",
   "metadata": {},
   "source": [
    "# Classifying Fashion-MNIST\n",
    "\n",
    "Now it's your turn to build and train a neural network. You'll be using the [Fashion-MNIST dataset](https://github.com/zalandoresearch/fashion-mnist), a drop-in replacement for the MNIST dataset. MNIST is actually quite trivial with neural networks where you can easily achieve better than 97% accuracy. Fashion-MNIST is a set of 28x28 greyscale images of clothes. It's more complex than MNIST, so it's a better representation of the actual performance of your network, and a better representation of datasets you'll use in the real world.\n",
    "\n",
    "<img src='assets/fashion-mnist-sprite.png' width=500px>\n",
    "\n",
    "In this notebook, you'll build your own neural network. For the most part, you could just copy and paste the code from Part 3, but you wouldn't be learning. It's important for you to write the code yourself and get it to work. Feel free to consult the previous notebooks though as you work through this.\n",
    "\n",
    "First off, let's load the dataset through torchvision."
   ]
  },
  {
   "cell_type": "code",
   "execution_count": 2,
   "metadata": {},
   "outputs": [],
   "source": [
    "import torch\n",
    "from torchvision import datasets, transforms\n",
    "import helper\n",
    "from torch import nn\n",
    "from torch import optim\n",
    "import torch.nn.functional as F\n",
    "\n",
    "\n",
    "SEED = 1234\n",
    "\n",
    "torch.manual_seed(SEED)\n",
    "torch.cuda.manual_seed(SEED)\n",
    "torch.backends.cudnn.deterministic = True\n",
    "\n",
    "# Define a transform to normalize the data\n",
    "transform = transforms.Compose([transforms.ToTensor(),\n",
    "                                transforms.Normalize((0.5,), (0.5,))])\n",
    "# Download and load the training data\n",
    "trainset = datasets.FashionMNIST('~/.pytorch/F_MNIST_data/', download=True, train=True, transform=transform)\n",
    "trainloader = torch.utils.data.DataLoader(trainset, batch_size=512, shuffle=True, num_workers=8)\n",
    "\n",
    "# Download and load the test data\n",
    "testset = datasets.FashionMNIST('~/.pytorch/F_MNIST_data/', download=True, train=False, transform=transform)\n",
    "testloader = torch.utils.data.DataLoader(testset, batch_size=64, shuffle=True)\n",
    "\n",
    "device = torch.device('cuda' if torch.cuda.is_available() else 'cpu')"
   ]
  },
  {
   "cell_type": "markdown",
   "metadata": {},
   "source": [
    "Here we can see one of the images."
   ]
  },
  {
   "cell_type": "code",
   "execution_count": 3,
   "metadata": {},
   "outputs": [
    {
     "data": {
      "text/plain": "<matplotlib.axes._subplots.AxesSubplot at 0x7f0232132358>"
     },
     "execution_count": 3,
     "metadata": {},
     "output_type": "execute_result"
    },
    {
     "data": {
      "image/png": "[encoded data removed]",
      "image/svg+xml": "<?xml version=\"1.0\" encoding=\"utf-8\" standalone=\"no\"?>\n<!DOCTYPE svg PUBLIC \"-//W3C//DTD SVG 1.1//EN\"\n  \"http://www.w3.org/Graphics/SVG/1.1/DTD/svg11.dtd\">\n<!-- Created with matplotlib (https://matplotlib.org/) -->\n<svg height=\"231.84pt\" version=\"1.1\" viewBox=\"0 0 231.84 231.84\" width=\"231.84pt\" xmlns=\"http://www.w3.org/2000/svg\" xmlns:xlink=\"http://www.w3.org/1999/xlink\">\n <defs>\n  <style type=\"text/css\">\n*{stroke-linecap:butt;stroke-linejoin:round;}\n  </style>\n </defs>\n <g id=\"figure_1\">\n  <g id=\"patch_1\">\n   <path d=\"M 0 231.84 \nL 231.84 231.84 \nL 231.84 0 \nL 0 0 \nz\n\" style=\"fill:none;\"/>\n  </g>\n  <g id=\"axes_1\">\n   <g id=\"patch_2\">\n    <path d=\"M 7.2 224.64 \nL 224.64 224.64 \nL 224.64 7.2 \nL 7.2 7.2 \nz\n\" style=\"fill:#ffffff;\"/>\n   </g>\n   <g clip-path=\"url(#pb16e88c7fc)\">\n    <image height=\"218\" id=\"imagee297684a5a\" transform=\"scale(1 -1)translate(0 -218)\" width=\"218\" x=\"7.2\" xlink:href=\"data:image/png;base64,\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\" y=\"-6.64\"/>\n   </g>\n   <g id=\"matplotlib.axis_1\">\n    <g id=\"xtick_1\">\n     <g id=\"line2d_1\"/>\n    </g>\n    <g id=\"xtick_2\">\n     <g id=\"line2d_2\"/>\n    </g>\n    <g id=\"xtick_3\">\n     <g id=\"line2d_3\"/>\n    </g>\n    <g id=\"xtick_4\">\n     <g id=\"line2d_4\"/>\n    </g>\n    <g id=\"xtick_5\">\n     <g id=\"line2d_5\"/>\n    </g>\n    <g id=\"xtick_6\">\n     <g id=\"line2d_6\"/>\n    </g>\n   </g>\n   <g id=\"matplotlib.axis_2\">\n    <g id=\"ytick_1\">\n     <g id=\"line2d_7\"/>\n    </g>\n    <g id=\"ytick_2\">\n     <g id=\"line2d_8\"/>\n    </g>\n    <g id=\"ytick_3\">\n     <g id=\"line2d_9\"/>\n    </g>\n    <g id=\"ytick_4\">\n     <g id=\"line2d_10\"/>\n    </g>\n    <g id=\"ytick_5\">\n     <g id=\"line2d_11\"/>\n    </g>\n    <g id=\"ytick_6\">\n     <g id=\"line2d_12\"/>\n    </g>\n   </g>\n  </g>\n </g>\n <defs>\n  <clipPath id=\"pb16e88c7fc\">\n   <rect height=\"217.44\" width=\"217.44\" x=\"7.2\" y=\"7.2\"/>\n  </clipPath>\n </defs>\n</svg>\n",
      "text/plain": "<Figure size 432x288 with 1 Axes>"
     },
     "metadata": {
      "needs_background": "light"
     },
     "output_type": "display_data"
    }
   ],
   "source": [
    "image, label = next(iter(trainloader))\n",
    "helper.imshow(image[0,:])"
   ]
  },
  {
   "cell_type": "markdown",
   "metadata": {},
   "source": [
    "## Building the network\n",
    "\n",
    "Here you should define your network. As with MNIST, each image is 28x28 which is a total of 784 pixels, and there are 10 classes. You should include at least one hidden layer. We suggest you use ReLU activations for the layers and to return the logits or log-softmax from the forward pass. It's up to you how many layers you add and the size of those layers."
   ]
  },
  {
   "cell_type": "code",
   "execution_count": 4,
   "metadata": {},
   "outputs": [
    {
     "data": {
      "text/plain": "device(type='cuda')"
     },
     "execution_count": 4,
     "metadata": {},
     "output_type": "execute_result"
    }
   ],
   "source": [
    "image.shape\n",
    "device"
   ]
  },
  {
   "cell_type": "code",
   "execution_count": 5,
   "metadata": {},
   "outputs": [],
   "source": [
    "# TODO: Define your network architecture here\n",
    "class Network(nn.Module):\n",
    "    def __init__(self):\n",
    "        super().__init__()\n",
    "        self.input = nn.Linear(784, 128)\n",
    "        self.fc2 = nn.Linear(128, 256)\n",
    "        self.fc3 = nn.Linear(256, 128)\n",
    "        self.fc4 = nn.Linear(128, 64)\n",
    "        self.output = nn.Linear(64, 10)\n",
    "\n",
    "    def forward(self, img):\n",
    "        x = img.view(img.shape[0], -1)\n",
    "\n",
    "        x = F.relu(self.input(x))\n",
    "        x = F.relu(self.fc2(x))\n",
    "        x = F.relu(self.fc3(x))\n",
    "        x = F.relu(self.fc4(x))\n",
    "\n",
    "        # x = F.softmax(self.output(x), dim=1)\n",
    "        x = F.log_softmax(self.output(x), dim=1)\n",
    "        return x"
   ]
  },
  {
   "cell_type": "markdown",
   "metadata": {},
   "source": [
    "# Train the network\n",
    "\n",
    "Now you should create your network and train it. First you'll want to define [the criterion](http://pytorch.org/docs/master/nn.html#loss-functions) ( something like `nn.CrossEntropyLoss`) and [the optimizer](http://pytorch.org/docs/master/optim.html) (typically `optim.SGD` or `optim.Adam`).\n",
    "\n",
    "Then write the training code. Remember the training pass is a fairly straightforward process:\n",
    "\n",
    "* Make a forward pass through the network to get the logits \n",
    "* Use the logits to calculate the loss\n",
    "* Perform a backward pass through the network with `loss.backward()` to calculate the gradients\n",
    "* Take a step with the optimizer to update the weights\n",
    "\n",
    "By adjusting the hyperparameters (hidden units, learning rate, etc), you should be able to get the training loss below 0.4."
   ]
  },
  {
   "cell_type": "code",
   "execution_count": 6,
   "metadata": {},
   "outputs": [],
   "source": [
    "# TODO: Create the network, define the criterion and optimizer\n",
    "model = Network()\n",
    "model = model.to(device)\n",
    "\n",
    "# criterion = nn.CrossEntropyLoss()\n",
    "criterion = nn.NLLLoss()\n",
    "criterion = criterion.to(device)\n",
    "\n",
    "optimizer = optim.Adam(model.parameters(), lr=0.003)"
   ]
  },
  {
   "cell_type": "code",
   "execution_count": 7,
   "metadata": {},
   "outputs": [
    {
     "data": {
      "text/plain": "True"
     },
     "execution_count": 7,
     "metadata": {},
     "output_type": "execute_result"
    }
   ],
   "source": [
    "next(model.parameters()).is_cuda"
   ]
  },
  {
   "cell_type": "code",
   "execution_count": 8,
   "metadata": {},
   "outputs": [
    {
     "name": "stdout",
     "output_type": "stream",
     "text": "Training loss: 0.6833662176031178\nTraining loss: 0.41339243569616546\nTraining loss: 0.3607360493328612\nTraining loss: 0.3387771291752993\nTraining loss: 0.3166616692886514\nTraining loss: 0.30274212612944135\nTraining loss: 0.29030127368741115\nTraining loss: 0.2760280080265918\nTraining loss: 0.2626144927689585\nTraining loss: 0.2564968889800169\nTraining loss: 0.24370995744810267\nTraining loss: 0.23725281617904115\nTraining loss: 0.23114161319651846\nTraining loss: 0.22661592078916096\nTraining loss: 0.2218434742446673\nTraining loss: 0.20513558918136662\nTraining loss: 0.2009545171917495\nTraining loss: 0.20129765936378705\nTraining loss: 0.19451268168829255\nTraining loss: 0.18618662289138568\n"
    }
   ],
   "source": [
    "# TODO: Train the network here\n",
    "epochs = 20\n",
    "model.train()\n",
    "for e in range(epochs):\n",
    "    running_loss = 0\n",
    "    for images, labels in trainloader:\n",
    "\n",
    "        images = images.to(device)\n",
    "        labels = labels.to(device)\n",
    "\n",
    "        # TODO: Training pass\n",
    "        output = model(images)\n",
    "        loss = criterion(output, labels)\n",
    "        optimizer.zero_grad()\n",
    "        loss.backward()\n",
    "        optimizer.step()\n",
    "        running_loss += loss.item()\n",
    "    else:\n",
    "        print(f\"Training loss: {running_loss/len(trainloader)}\")"
   ]
  },
  {
   "cell_type": "code",
   "execution_count": 20,
   "metadata": {},
   "outputs": [
    {
     "data": {
      "image/png": "[encoded data removed]",
      "text/plain": "<Figure size 432x648 with 2 Axes>"
     },
     "metadata": {
      "image/png": {
       "height": 216,
       "width": 424
      },
      "needs_background": "light"
     },
     "output_type": "display_data"
    }
   ],
   "source": [
    "%matplotlib inline\n",
    "%config InlineBackend.figure_format = 'retina'\n",
    "\n",
    "import helper\n",
    "\n",
    "# Test out your network!\n",
    "\n",
    "dataiter = iter(testloader)\n",
    "images, labels = dataiter.next()\n",
    "# images = images.to(device)\n",
    "# labels = labels.to(device)\n",
    "img = images[0]\n",
    "# Convert 2D image to 1D vector\n",
    "img = img.resize_(1, 784)\n",
    "\n",
    "# TODO: Calculate the class probabilities (softmax) for img\n",
    "model.cpu()\n",
    "ps = model(img)\n",
    "ps = torch.exp(ps)\n",
    "\n",
    "# Plot the image and probabilities\n",
    "helper.view_classify(img.resize_(1, 28, 28), ps, version='Fashion')\n",
    "# ps"
   ]
  },
  {
   "cell_type": "code",
   "execution_count": null,
   "metadata": {},
   "outputs": [],
   "source": []
  }
 ],
 "metadata": {
  "kernelspec": {
   "display_name": "Python 3",
   "language": "python",
   "name": "python3"
  },
  "language_info": {
   "codemirror_mode": {
    "name": "ipython",
    "version": 3
   },
   "file_extension": ".py",
   "mimetype": "text/x-python",
   "name": "python",
   "nbconvert_exporter": "python",
   "pygments_lexer": "ipython3",
   "version": "3.6.9-final"
  }
 },
 "nbformat": 4,
 "nbformat_minor": 2
}